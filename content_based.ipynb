{
 "cells": [
  {
   "cell_type": "code",
   "execution_count": 1,
   "metadata": {},
   "outputs": [],
   "source": [
    "import pandas as pd\n",
    "from sklearn.feature_extraction.text import TfidfVectorizer\n",
    "from sklearn.metrics.pairwise import linear_kernel\n",
    "\n",
    "movies_df = pd.read_csv('./preprocessed_data/movies_preprocessed.csv', index_col=0)"
   ]
  },
  {
   "cell_type": "code",
   "execution_count": 2,
   "metadata": {},
   "outputs": [
    {
     "data": {
      "text/plain": [
       "Index(['adult', 'belongs_to_collection', 'budget', 'genres', 'homepage', 'id',\n",
       "       'imdb_id', 'original_language', 'original_title', 'overview',\n",
       "       'popularity', 'poster_path', 'production_companies',\n",
       "       'production_countries', 'release_date', 'revenue', 'runtime',\n",
       "       'spoken_languages', 'status', 'tagline', 'title', 'video',\n",
       "       'vote_average', 'vote_count', 'overview_filtered', 'keywords',\n",
       "       'keywords_list', 'preprocessed_overview'],\n",
       "      dtype='object')"
      ]
     },
     "execution_count": 2,
     "metadata": {},
     "output_type": "execute_result"
    }
   ],
   "source": [
    "movies_df.columns"
   ]
  },
  {
   "attachments": {},
   "cell_type": "markdown",
   "metadata": {},
   "source": [
    "### **1. Using TF-IDF Vectorization**"
   ]
  },
  {
   "cell_type": "code",
   "execution_count": 3,
   "metadata": {},
   "outputs": [],
   "source": [
    "import numpy as np\n",
    "\n",
    "tfidf = TfidfVectorizer(dtype=np.float32)\n",
    "\n",
    "#Construct the required TF-IDF matrix by fitting and transforming the data\n",
    "tfidf_matrix = tfidf.fit_transform(movies_df['preprocessed_overview'].values.astype('U'))"
   ]
  },
  {
   "cell_type": "code",
   "execution_count": 4,
   "metadata": {},
   "outputs": [
    {
     "data": {
      "text/plain": [
       "<45296x64086 sparse matrix of type '<class 'numpy.float32'>'\n",
       "\twith 1164020 stored elements in Compressed Sparse Row format>"
      ]
     },
     "execution_count": 4,
     "metadata": {},
     "output_type": "execute_result"
    }
   ],
   "source": [
    "tfidf_matrix"
   ]
  },
  {
   "cell_type": "code",
   "execution_count": 5,
   "metadata": {},
   "outputs": [],
   "source": [
    "cosine_sim = linear_kernel(tfidf_matrix, tfidf_matrix)"
   ]
  },
  {
   "cell_type": "code",
   "execution_count": 6,
   "metadata": {},
   "outputs": [],
   "source": [
    "def get_recommendations(title, n_recommendations, cosine_sim=cosine_sim):\n",
    "    if title not in movies_df['title'].tolist():\n",
    "        print(\"There is no movie of this title in our dataset\")\n",
    "        return \n",
    "\n",
    "    # Get the index of the movie that matches the title\n",
    "    idx = movies_df.loc[movies_df['title'] == title].index.values[0]\n",
    "\n",
    "    # Get the pairwsie similarity scores of all movies with that movie\n",
    "    sim_scores = list(enumerate(cosine_sim[idx]))\n",
    "\n",
    "    # Sort the movies based on the similarity scores\n",
    "    sim_scores = sorted(sim_scores, key=lambda x: x[1], reverse=True)\n",
    "\n",
    "    # Get the scores of the 10 most similar movies\n",
    "    sim_scores = sim_scores[1:n_recommendations+1]\n",
    "\n",
    "    # Get the movie indices\n",
    "    movie_indices = [i[0] for i in sim_scores]\n",
    "\n",
    "    # Return the top 10 most similar movies\n",
    "    return sim_scores"
   ]
  },
  {
   "cell_type": "code",
   "execution_count": 7,
   "metadata": {},
   "outputs": [
    {
     "data": {
      "text/plain": [
       "'The Legend of Bloody Mary'"
      ]
     },
     "execution_count": 7,
     "metadata": {},
     "output_type": "execute_result"
    }
   ],
   "source": [
    "title = movies_df.sample()['title'].item()\n",
    "title"
   ]
  },
  {
   "cell_type": "code",
   "execution_count": 8,
   "metadata": {},
   "outputs": [
    {
     "data": {
      "text/plain": [
       "'Ryan plague nightmare night sister Amy go miss year play game Bloody Mary Amy stumble website internet witch call Bloody Mary game summon evil spirit senior college Ryan reach mental breaking point year stress guilt sister disappearance girlfriend Rachel frustrate Ryan emotional distance self pity call help professor Ryan Father Father priest archaeologist decide help Ryan end tormenting grief detective skill wit figure happen Ryan sister uncover truth Legend Bloody Mary'"
      ]
     },
     "execution_count": 8,
     "metadata": {},
     "output_type": "execute_result"
    }
   ],
   "source": [
    "movies_df.loc[movies_df['title'] == title]['preprocessed_overview'].item()"
   ]
  },
  {
   "cell_type": "code",
   "execution_count": 9,
   "metadata": {},
   "outputs": [
    {
     "data": {
      "text/plain": [
       "[(20075, 0.39806882),\n",
       " (3051, 0.39451265),\n",
       " (33105, 0.3614585),\n",
       " (20973, 0.35765594),\n",
       " (27746, 0.34115762)]"
      ]
     },
     "execution_count": 9,
     "metadata": {},
     "output_type": "execute_result"
    }
   ],
   "source": [
    "get_recommendations(title, 5)"
   ]
  },
  {
   "attachments": {},
   "cell_type": "markdown",
   "metadata": {},
   "source": [
    "Building the rating matrix"
   ]
  },
  {
   "cell_type": "code",
   "execution_count": 11,
   "metadata": {},
   "outputs": [
    {
     "data": {
      "text/html": [
       "<div>\n",
       "<style scoped>\n",
       "    .dataframe tbody tr th:only-of-type {\n",
       "        vertical-align: middle;\n",
       "    }\n",
       "\n",
       "    .dataframe tbody tr th {\n",
       "        vertical-align: top;\n",
       "    }\n",
       "\n",
       "    .dataframe thead th {\n",
       "        text-align: right;\n",
       "    }\n",
       "</style>\n",
       "<table border=\"1\" class=\"dataframe\">\n",
       "  <thead>\n",
       "    <tr style=\"text-align: right;\">\n",
       "      <th></th>\n",
       "      <th>id</th>\n",
       "      <th>title</th>\n",
       "      <th>preprocessed_overview</th>\n",
       "    </tr>\n",
       "  </thead>\n",
       "  <tbody>\n",
       "    <tr>\n",
       "      <th>0</th>\n",
       "      <td>862</td>\n",
       "      <td>Toy Story</td>\n",
       "      <td>lead Woody Andy toy live room Andy birthday br...</td>\n",
       "    </tr>\n",
       "    <tr>\n",
       "      <th>1</th>\n",
       "      <td>8844</td>\n",
       "      <td>Jumanji</td>\n",
       "      <td>sibling Judy Peter discover enchanted board ga...</td>\n",
       "    </tr>\n",
       "    <tr>\n",
       "      <th>2</th>\n",
       "      <td>15602</td>\n",
       "      <td>Grumpier Old Men</td>\n",
       "      <td>family wedding reignite ancient feud door neig...</td>\n",
       "    </tr>\n",
       "    <tr>\n",
       "      <th>3</th>\n",
       "      <td>31357</td>\n",
       "      <td>Waiting to Exhale</td>\n",
       "      <td>cheat mistreat step woman hold breath wait elu...</td>\n",
       "    </tr>\n",
       "    <tr>\n",
       "      <th>4</th>\n",
       "      <td>11862</td>\n",
       "      <td>Father of the Bride Part II</td>\n",
       "      <td>George Banks recover daughter wedding receive ...</td>\n",
       "    </tr>\n",
       "    <tr>\n",
       "      <th>...</th>\n",
       "      <td>...</td>\n",
       "      <td>...</td>\n",
       "      <td>...</td>\n",
       "    </tr>\n",
       "    <tr>\n",
       "      <th>45291</th>\n",
       "      <td>439050</td>\n",
       "      <td>Subdue</td>\n",
       "      <td>rise fall man woman</td>\n",
       "    </tr>\n",
       "    <tr>\n",
       "      <th>45292</th>\n",
       "      <td>111109</td>\n",
       "      <td>Century of Birthing</td>\n",
       "      <td>artist struggle finish work storyline cult pla...</td>\n",
       "    </tr>\n",
       "    <tr>\n",
       "      <th>45293</th>\n",
       "      <td>67758</td>\n",
       "      <td>Betrayal</td>\n",
       "      <td>hit go wrong professional assassin end suitcas...</td>\n",
       "    </tr>\n",
       "    <tr>\n",
       "      <th>45294</th>\n",
       "      <td>227506</td>\n",
       "      <td>Satan Triumphant</td>\n",
       "      <td>small town live brother minister hunchback pai...</td>\n",
       "    </tr>\n",
       "    <tr>\n",
       "      <th>45295</th>\n",
       "      <td>461257</td>\n",
       "      <td>Queerama</td>\n",
       "      <td>year decriminalisation homosexuality UK direct...</td>\n",
       "    </tr>\n",
       "  </tbody>\n",
       "</table>\n",
       "<p>45296 rows × 3 columns</p>\n",
       "</div>"
      ],
      "text/plain": [
       "           id                        title  \\\n",
       "0         862                    Toy Story   \n",
       "1        8844                      Jumanji   \n",
       "2       15602             Grumpier Old Men   \n",
       "3       31357            Waiting to Exhale   \n",
       "4       11862  Father of the Bride Part II   \n",
       "...       ...                          ...   \n",
       "45291  439050                       Subdue   \n",
       "45292  111109          Century of Birthing   \n",
       "45293   67758                     Betrayal   \n",
       "45294  227506             Satan Triumphant   \n",
       "45295  461257                     Queerama   \n",
       "\n",
       "                                   preprocessed_overview  \n",
       "0      lead Woody Andy toy live room Andy birthday br...  \n",
       "1      sibling Judy Peter discover enchanted board ga...  \n",
       "2      family wedding reignite ancient feud door neig...  \n",
       "3      cheat mistreat step woman hold breath wait elu...  \n",
       "4      George Banks recover daughter wedding receive ...  \n",
       "...                                                  ...  \n",
       "45291                                rise fall man woman  \n",
       "45292  artist struggle finish work storyline cult pla...  \n",
       "45293  hit go wrong professional assassin end suitcas...  \n",
       "45294  small town live brother minister hunchback pai...  \n",
       "45295  year decriminalisation homosexuality UK direct...  \n",
       "\n",
       "[45296 rows x 3 columns]"
      ]
     },
     "execution_count": 11,
     "metadata": {},
     "output_type": "execute_result"
    }
   ],
   "source": [
    "movies_df = movies_df[['id', 'title', 'preprocessed_overview']]\n",
    "movies_df"
   ]
  },
  {
   "cell_type": "code",
   "execution_count": 49,
   "metadata": {},
   "outputs": [
    {
     "data": {
      "text/html": [
       "<div>\n",
       "<style scoped>\n",
       "    .dataframe tbody tr th:only-of-type {\n",
       "        vertical-align: middle;\n",
       "    }\n",
       "\n",
       "    .dataframe tbody tr th {\n",
       "        vertical-align: top;\n",
       "    }\n",
       "\n",
       "    .dataframe thead th {\n",
       "        text-align: right;\n",
       "    }\n",
       "</style>\n",
       "<table border=\"1\" class=\"dataframe\">\n",
       "  <thead>\n",
       "    <tr style=\"text-align: right;\">\n",
       "      <th></th>\n",
       "      <th>userId</th>\n",
       "      <th>movieId</th>\n",
       "      <th>rating</th>\n",
       "    </tr>\n",
       "  </thead>\n",
       "  <tbody>\n",
       "    <tr>\n",
       "      <th>0</th>\n",
       "      <td>1</td>\n",
       "      <td>110</td>\n",
       "      <td>2.0</td>\n",
       "    </tr>\n",
       "    <tr>\n",
       "      <th>1</th>\n",
       "      <td>1</td>\n",
       "      <td>147</td>\n",
       "      <td>9.0</td>\n",
       "    </tr>\n",
       "    <tr>\n",
       "      <th>2</th>\n",
       "      <td>1</td>\n",
       "      <td>858</td>\n",
       "      <td>10.0</td>\n",
       "    </tr>\n",
       "    <tr>\n",
       "      <th>4</th>\n",
       "      <td>1</td>\n",
       "      <td>1246</td>\n",
       "      <td>10.0</td>\n",
       "    </tr>\n",
       "    <tr>\n",
       "      <th>5</th>\n",
       "      <td>1</td>\n",
       "      <td>1968</td>\n",
       "      <td>8.0</td>\n",
       "    </tr>\n",
       "    <tr>\n",
       "      <th>...</th>\n",
       "      <td>...</td>\n",
       "      <td>...</td>\n",
       "      <td>...</td>\n",
       "    </tr>\n",
       "    <tr>\n",
       "      <th>26024269</th>\n",
       "      <td>270896</td>\n",
       "      <td>48780</td>\n",
       "      <td>10.0</td>\n",
       "    </tr>\n",
       "    <tr>\n",
       "      <th>26024271</th>\n",
       "      <td>270896</td>\n",
       "      <td>49530</td>\n",
       "      <td>8.0</td>\n",
       "    </tr>\n",
       "    <tr>\n",
       "      <th>26024278</th>\n",
       "      <td>270896</td>\n",
       "      <td>54001</td>\n",
       "      <td>8.0</td>\n",
       "    </tr>\n",
       "    <tr>\n",
       "      <th>26024280</th>\n",
       "      <td>270896</td>\n",
       "      <td>54503</td>\n",
       "      <td>8.0</td>\n",
       "    </tr>\n",
       "    <tr>\n",
       "      <th>26024284</th>\n",
       "      <td>270896</td>\n",
       "      <td>58559</td>\n",
       "      <td>10.0</td>\n",
       "    </tr>\n",
       "  </tbody>\n",
       "</table>\n",
       "<p>11360642 rows × 3 columns</p>\n",
       "</div>"
      ],
      "text/plain": [
       "          userId  movieId  rating\n",
       "0              1      110     2.0\n",
       "1              1      147     9.0\n",
       "2              1      858    10.0\n",
       "4              1     1246    10.0\n",
       "5              1     1968     8.0\n",
       "...          ...      ...     ...\n",
       "26024269  270896    48780    10.0\n",
       "26024271  270896    49530     8.0\n",
       "26024278  270896    54001     8.0\n",
       "26024280  270896    54503     8.0\n",
       "26024284  270896    58559    10.0\n",
       "\n",
       "[11360642 rows x 3 columns]"
      ]
     },
     "execution_count": 49,
     "metadata": {},
     "output_type": "execute_result"
    }
   ],
   "source": [
    "ratings_df = pd.read_csv('./preprocessed_data/ratings_preprocessed.csv', index_col=0)\n",
    "ratings_df = ratings_df.loc[ratings_df['movieId'].isin(movies_df['id'].tolist())]\n",
    "ratings_df"
   ]
  },
  {
   "cell_type": "code",
   "execution_count": 69,
   "metadata": {},
   "outputs": [
    {
     "data": {
      "text/html": [
       "<div>\n",
       "<style scoped>\n",
       "    .dataframe tbody tr th:only-of-type {\n",
       "        vertical-align: middle;\n",
       "    }\n",
       "\n",
       "    .dataframe tbody tr th {\n",
       "        vertical-align: top;\n",
       "    }\n",
       "\n",
       "    .dataframe thead th {\n",
       "        text-align: right;\n",
       "    }\n",
       "</style>\n",
       "<table border=\"1\" class=\"dataframe\">\n",
       "  <thead>\n",
       "    <tr style=\"text-align: right;\">\n",
       "      <th></th>\n",
       "      <th>id</th>\n",
       "      <th>title</th>\n",
       "      <th>preprocessed_overview</th>\n",
       "    </tr>\n",
       "  </thead>\n",
       "  <tbody>\n",
       "    <tr>\n",
       "      <th>0</th>\n",
       "      <td>862</td>\n",
       "      <td>Toy Story</td>\n",
       "      <td>lead Woody Andy toy live room Andy birthday br...</td>\n",
       "    </tr>\n",
       "  </tbody>\n",
       "</table>\n",
       "</div>"
      ],
      "text/plain": [
       "    id      title                              preprocessed_overview\n",
       "0  862  Toy Story  lead Woody Andy toy live room Andy birthday br..."
      ]
     },
     "execution_count": 69,
     "metadata": {},
     "output_type": "execute_result"
    }
   ],
   "source": [
    "movies_df.loc[movies_df['title'] == 'Toy Story']"
   ]
  },
  {
   "cell_type": "code",
   "execution_count": 59,
   "metadata": {},
   "outputs": [],
   "source": [
    "def get_predictions(user_id, movie_id):\n",
    "    if movie_id not in movies_df['id'].tolist():\n",
    "        print(\"There is no movie of this title in our dataset\")\n",
    "        return\n",
    "    if user_id not in ratings_df['userId'].tolist():\n",
    "        print(\"Therenot user like this in our dataset\")\n",
    "        return \n",
    "    \n",
    "    title = movies_df.loc[movies_df['id'] == movie_id]['title'].item()\n",
    "    print(title)\n",
    "    sim_movies = get_recommendations(title, 20000)\n",
    "    print(sim_movies)\n",
    "    df_user_sim_aux = ratings_df.loc[ratings_df['userId']==user_id]\n",
    "    df_user_sim_aux['sim'] = 0\n",
    "\n",
    "    print(len(df_user_sim_aux))\n",
    "    for sim in sim_movies:\n",
    "        if int(sim[0]) in df_user_sim_aux['movieId'].values:\n",
    "        # Check this product has been rated by the user and, then, we save this rating\n",
    "            df_user_sim_aux['sim'].loc[df_user_sim_aux['movieId']==int(sim[0])] = sim[1]\n",
    "\n",
    "    \n",
    "    print('List of similar products:')\n",
    "    print(df_user_sim_aux.loc[df_user_sim_aux['sim']>0])\n",
    "    # Now, we can make the prediction\n",
    "    pred_rating = (df_user_sim_aux['rating']*df_user_sim_aux['sim']).sum()/df_user_sim_aux['sim'].sum()\n",
    "    print('The predicted scoring is: %2.2f' %pred_rating)\n",
    "    return df_user_sim_aux.loc[df_user_sim_aux['sim']>0]"
   ]
  },
  {
   "cell_type": "code",
   "execution_count": 1,
   "metadata": {},
   "outputs": [
    {
     "ename": "NameError",
     "evalue": "name 'get_predictions' is not defined",
     "output_type": "error",
     "traceback": [
      "\u001b[0;31m---------------------------------------------------------------------------\u001b[0m",
      "\u001b[0;31mNameError\u001b[0m                                 Traceback (most recent call last)",
      "Cell \u001b[0;32mIn[1], line 1\u001b[0m\n\u001b[0;32m----> 1\u001b[0m df_user_sim_aux \u001b[39m=\u001b[39m get_predictions(\u001b[39m78\u001b[39m, \u001b[39m862\u001b[39m)\n",
      "\u001b[0;31mNameError\u001b[0m: name 'get_predictions' is not defined"
     ]
    }
   ],
   "source": [
    "df_user_sim_aux = get_predictions(78, 862)"
   ]
  },
  {
   "cell_type": "code",
   "execution_count": 71,
   "metadata": {},
   "outputs": [
    {
     "data": {
      "text/html": [
       "<div>\n",
       "<style scoped>\n",
       "    .dataframe tbody tr th:only-of-type {\n",
       "        vertical-align: middle;\n",
       "    }\n",
       "\n",
       "    .dataframe tbody tr th {\n",
       "        vertical-align: top;\n",
       "    }\n",
       "\n",
       "    .dataframe thead th {\n",
       "        text-align: right;\n",
       "    }\n",
       "</style>\n",
       "<table border=\"1\" class=\"dataframe\">\n",
       "  <thead>\n",
       "    <tr style=\"text-align: right;\">\n",
       "      <th></th>\n",
       "      <th>userId</th>\n",
       "      <th>movieId</th>\n",
       "      <th>rating</th>\n",
       "      <th>sim</th>\n",
       "    </tr>\n",
       "  </thead>\n",
       "  <tbody>\n",
       "    <tr>\n",
       "      <th>7575</th>\n",
       "      <td>75</td>\n",
       "      <td>260</td>\n",
       "      <td>7.0</td>\n",
       "      <td>0.013411</td>\n",
       "    </tr>\n",
       "    <tr>\n",
       "      <th>7576</th>\n",
       "      <td>75</td>\n",
       "      <td>296</td>\n",
       "      <td>9.0</td>\n",
       "      <td>0.012404</td>\n",
       "    </tr>\n",
       "    <tr>\n",
       "      <th>7577</th>\n",
       "      <td>75</td>\n",
       "      <td>344</td>\n",
       "      <td>6.0</td>\n",
       "      <td>0.010304</td>\n",
       "    </tr>\n",
       "    <tr>\n",
       "      <th>7580</th>\n",
       "      <td>75</td>\n",
       "      <td>457</td>\n",
       "      <td>8.0</td>\n",
       "      <td>0.005446</td>\n",
       "    </tr>\n",
       "    <tr>\n",
       "      <th>7584</th>\n",
       "      <td>75</td>\n",
       "      <td>648</td>\n",
       "      <td>6.0</td>\n",
       "      <td>0.004418</td>\n",
       "    </tr>\n",
       "    <tr>\n",
       "      <th>7595</th>\n",
       "      <td>75</td>\n",
       "      <td>1610</td>\n",
       "      <td>8.0</td>\n",
       "      <td>0.027964</td>\n",
       "    </tr>\n",
       "    <tr>\n",
       "      <th>7597</th>\n",
       "      <td>75</td>\n",
       "      <td>2023</td>\n",
       "      <td>9.0</td>\n",
       "      <td>0.010564</td>\n",
       "    </tr>\n",
       "    <tr>\n",
       "      <th>7599</th>\n",
       "      <td>75</td>\n",
       "      <td>2105</td>\n",
       "      <td>10.0</td>\n",
       "      <td>0.010187</td>\n",
       "    </tr>\n",
       "    <tr>\n",
       "      <th>7605</th>\n",
       "      <td>75</td>\n",
       "      <td>2502</td>\n",
       "      <td>7.0</td>\n",
       "      <td>0.021359</td>\n",
       "    </tr>\n",
       "    <tr>\n",
       "      <th>7617</th>\n",
       "      <td>75</td>\n",
       "      <td>4995</td>\n",
       "      <td>9.0</td>\n",
       "      <td>0.016052</td>\n",
       "    </tr>\n",
       "    <tr>\n",
       "      <th>7632</th>\n",
       "      <td>75</td>\n",
       "      <td>33166</td>\n",
       "      <td>10.0</td>\n",
       "      <td>0.003800</td>\n",
       "    </tr>\n",
       "  </tbody>\n",
       "</table>\n",
       "</div>"
      ],
      "text/plain": [
       "      userId  movieId  rating       sim\n",
       "7575      75      260     7.0  0.013411\n",
       "7576      75      296     9.0  0.012404\n",
       "7577      75      344     6.0  0.010304\n",
       "7580      75      457     8.0  0.005446\n",
       "7584      75      648     6.0  0.004418\n",
       "7595      75     1610     8.0  0.027964\n",
       "7597      75     2023     9.0  0.010564\n",
       "7599      75     2105    10.0  0.010187\n",
       "7605      75     2502     7.0  0.021359\n",
       "7617      75     4995     9.0  0.016052\n",
       "7632      75    33166    10.0  0.003800"
      ]
     },
     "execution_count": 71,
     "metadata": {},
     "output_type": "execute_result"
    }
   ],
   "source": [
    "df_user_sim_aux"
   ]
  },
  {
   "cell_type": "code",
   "execution_count": 72,
   "metadata": {},
   "outputs": [
    {
     "data": {
      "text/html": [
       "<div>\n",
       "<style scoped>\n",
       "    .dataframe tbody tr th:only-of-type {\n",
       "        vertical-align: middle;\n",
       "    }\n",
       "\n",
       "    .dataframe tbody tr th {\n",
       "        vertical-align: top;\n",
       "    }\n",
       "\n",
       "    .dataframe thead th {\n",
       "        text-align: right;\n",
       "    }\n",
       "</style>\n",
       "<table border=\"1\" class=\"dataframe\">\n",
       "  <thead>\n",
       "    <tr style=\"text-align: right;\">\n",
       "      <th></th>\n",
       "      <th>userId</th>\n",
       "      <th>movieId</th>\n",
       "      <th>rating</th>\n",
       "      <th>sim</th>\n",
       "      <th>title</th>\n",
       "      <th>id</th>\n",
       "    </tr>\n",
       "  </thead>\n",
       "  <tbody>\n",
       "    <tr>\n",
       "      <th>0</th>\n",
       "      <td>75</td>\n",
       "      <td>260</td>\n",
       "      <td>7.0</td>\n",
       "      <td>0.013411</td>\n",
       "      <td>The 39 Steps</td>\n",
       "      <td>260</td>\n",
       "    </tr>\n",
       "    <tr>\n",
       "      <th>1</th>\n",
       "      <td>75</td>\n",
       "      <td>296</td>\n",
       "      <td>9.0</td>\n",
       "      <td>0.012404</td>\n",
       "      <td>Terminator 3: Rise of the Machines</td>\n",
       "      <td>296</td>\n",
       "    </tr>\n",
       "    <tr>\n",
       "      <th>2</th>\n",
       "      <td>75</td>\n",
       "      <td>344</td>\n",
       "      <td>6.0</td>\n",
       "      <td>0.010304</td>\n",
       "      <td>Bang, Boom, Bang</td>\n",
       "      <td>344</td>\n",
       "    </tr>\n",
       "    <tr>\n",
       "      <th>3</th>\n",
       "      <td>75</td>\n",
       "      <td>457</td>\n",
       "      <td>8.0</td>\n",
       "      <td>0.005446</td>\n",
       "      <td>Sissi</td>\n",
       "      <td>457</td>\n",
       "    </tr>\n",
       "    <tr>\n",
       "      <th>4</th>\n",
       "      <td>75</td>\n",
       "      <td>648</td>\n",
       "      <td>6.0</td>\n",
       "      <td>0.004418</td>\n",
       "      <td>Beauty and the Beast</td>\n",
       "      <td>648</td>\n",
       "    </tr>\n",
       "    <tr>\n",
       "      <th>5</th>\n",
       "      <td>75</td>\n",
       "      <td>1610</td>\n",
       "      <td>8.0</td>\n",
       "      <td>0.027964</td>\n",
       "      <td>Fever Pitch</td>\n",
       "      <td>1610</td>\n",
       "    </tr>\n",
       "    <tr>\n",
       "      <th>6</th>\n",
       "      <td>75</td>\n",
       "      <td>2023</td>\n",
       "      <td>9.0</td>\n",
       "      <td>0.010564</td>\n",
       "      <td>Hidalgo</td>\n",
       "      <td>2023</td>\n",
       "    </tr>\n",
       "    <tr>\n",
       "      <th>7</th>\n",
       "      <td>75</td>\n",
       "      <td>2105</td>\n",
       "      <td>10.0</td>\n",
       "      <td>0.010187</td>\n",
       "      <td>American Pie</td>\n",
       "      <td>2105</td>\n",
       "    </tr>\n",
       "    <tr>\n",
       "      <th>8</th>\n",
       "      <td>75</td>\n",
       "      <td>2502</td>\n",
       "      <td>7.0</td>\n",
       "      <td>0.021359</td>\n",
       "      <td>The Bourne Supremacy</td>\n",
       "      <td>2502</td>\n",
       "    </tr>\n",
       "    <tr>\n",
       "      <th>9</th>\n",
       "      <td>75</td>\n",
       "      <td>4995</td>\n",
       "      <td>9.0</td>\n",
       "      <td>0.016052</td>\n",
       "      <td>Boogie Nights</td>\n",
       "      <td>4995</td>\n",
       "    </tr>\n",
       "    <tr>\n",
       "      <th>10</th>\n",
       "      <td>75</td>\n",
       "      <td>33166</td>\n",
       "      <td>10.0</td>\n",
       "      <td>0.003800</td>\n",
       "      <td>Downhill Racer</td>\n",
       "      <td>33166</td>\n",
       "    </tr>\n",
       "  </tbody>\n",
       "</table>\n",
       "</div>"
      ],
      "text/plain": [
       "    userId  movieId  rating       sim                               title  \\\n",
       "0       75      260     7.0  0.013411                        The 39 Steps   \n",
       "1       75      296     9.0  0.012404  Terminator 3: Rise of the Machines   \n",
       "2       75      344     6.0  0.010304                    Bang, Boom, Bang   \n",
       "3       75      457     8.0  0.005446                               Sissi   \n",
       "4       75      648     6.0  0.004418                Beauty and the Beast   \n",
       "5       75     1610     8.0  0.027964                         Fever Pitch   \n",
       "6       75     2023     9.0  0.010564                             Hidalgo   \n",
       "7       75     2105    10.0  0.010187                        American Pie   \n",
       "8       75     2502     7.0  0.021359                The Bourne Supremacy   \n",
       "9       75     4995     9.0  0.016052                       Boogie Nights   \n",
       "10      75    33166    10.0  0.003800                      Downhill Racer   \n",
       "\n",
       "       id  \n",
       "0     260  \n",
       "1     296  \n",
       "2     344  \n",
       "3     457  \n",
       "4     648  \n",
       "5    1610  \n",
       "6    2023  \n",
       "7    2105  \n",
       "8    2502  \n",
       "9    4995  \n",
       "10  33166  "
      ]
     },
     "execution_count": 72,
     "metadata": {},
     "output_type": "execute_result"
    },
    {
     "ename": "",
     "evalue": "",
     "output_type": "error",
     "traceback": [
      "\u001b[1;31mThe Kernel crashed while executing code in the the current cell or a previous cell. Please review the code in the cell(s) to identify a possible cause of the failure. Click <a href='https://aka.ms/vscodeJupyterKernelCrash'>here</a> for more info. View Jupyter <a href='command:jupyter.viewOutput'>log</a> for further details."
     ]
    }
   ],
   "source": [
    "df_user_sim_aux.merge(movies_df[['title', 'id']], left_on='movieId', right_on='id')"
   ]
  }
 ],
 "metadata": {
  "kernelspec": {
   "display_name": "base",
   "language": "python",
   "name": "python3"
  },
  "language_info": {
   "codemirror_mode": {
    "name": "ipython",
    "version": 3
   },
   "file_extension": ".py",
   "mimetype": "text/x-python",
   "name": "python",
   "nbconvert_exporter": "python",
   "pygments_lexer": "ipython3",
   "version": "3.9.12"
  },
  "orig_nbformat": 4
 },
 "nbformat": 4,
 "nbformat_minor": 2
}
