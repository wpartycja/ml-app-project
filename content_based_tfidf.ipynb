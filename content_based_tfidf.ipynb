{
  "cells": [
    {
      "cell_type": "code",
      "execution_count": 165,
      "metadata": {
        "id": "dddxbwpViO8m"
      },
      "outputs": [],
      "source": [
        "import pandas as pd\n",
        "from sklearn.feature_extraction.text import TfidfVectorizer\n",
        "from sklearn.metrics.pairwise import linear_kernel"
      ]
    },
    {
      "cell_type": "code",
      "execution_count": 166,
      "metadata": {
        "id": "xL5D26dVnZqT"
      },
      "outputs": [],
      "source": [
        "movies_df = pd.read_csv('./preprocessed_data/movies_preprocessed.csv', index_col=0)\n",
        "movies_df['overview_plus_keyword_preprocessed'].dropna(inplace=True)"
      ]
    },
    {
      "cell_type": "code",
      "execution_count": 167,
      "metadata": {
        "colab": {
          "base_uri": "https://localhost:8080/"
        },
        "id": "WNFPl07ziO8p",
        "outputId": "fc2f9cfe-8211-4e2f-aa9c-5f43bef10597"
      },
      "outputs": [
        {
          "data": {
            "text/plain": [
              "Index(['adult', 'belongs_to_collection', 'budget', 'genres', 'id',\n",
              "       'original_language', 'original_title', 'overview', 'popularity',\n",
              "       'production_companies', 'production_countries', 'release_date',\n",
              "       'revenue', 'runtime', 'spoken_languages', 'status', 'tagline', 'title',\n",
              "       'vote_average', 'vote_count', 'overview_filtered', 'keywords_list',\n",
              "       'overview_plus_keyword', 'overview_plus_keyword_preprocessed'],\n",
              "      dtype='object')"
            ]
          },
          "execution_count": 167,
          "metadata": {},
          "output_type": "execute_result"
        }
      ],
      "source": [
        "movies_df.columns"
      ]
    },
    {
      "attachments": {},
      "cell_type": "markdown",
      "metadata": {
        "id": "G9PU7p0ciO8q"
      },
      "source": [
        "### **1. TF-IDF Vectorization**"
      ]
    },
    {
      "cell_type": "code",
      "execution_count": 168,
      "metadata": {
        "id": "KyxU734wiO8s"
      },
      "outputs": [],
      "source": [
        "import numpy as np\n",
        "\n",
        "tfidf = TfidfVectorizer(dtype=np.float32)\n",
        "\n",
        "#Construct the required TF-IDF matrix by fitting and transforming the data\n",
        "tfidf_matrix = tfidf.fit_transform(movies_df['overview_plus_keyword_preprocessed'].values.astype('U'))"
      ]
    },
    {
      "cell_type": "code",
      "execution_count": 169,
      "metadata": {
        "colab": {
          "base_uri": "https://localhost:8080/"
        },
        "id": "lmKYwZRCiO8t",
        "outputId": "8ec6e0ba-fab9-45ff-bcd8-5911a9d40464"
      },
      "outputs": [
        {
          "data": {
            "text/plain": [
              "<10231x27704 sparse matrix of type '<class 'numpy.float32'>'\n",
              "\twith 309716 stored elements in Compressed Sparse Row format>"
            ]
          },
          "execution_count": 169,
          "metadata": {},
          "output_type": "execute_result"
        }
      ],
      "source": [
        "tfidf_matrix"
      ]
    },
    {
      "cell_type": "code",
      "execution_count": 170,
      "metadata": {
        "id": "JcHjstBkiO8t"
      },
      "outputs": [],
      "source": [
        "cosine_sim = linear_kernel(tfidf_matrix, tfidf_matrix)"
      ]
    },
    {
      "cell_type": "code",
      "execution_count": 171,
      "metadata": {
        "id": "NP9CpK8piR_z"
      },
      "outputs": [],
      "source": [
        "import pickle\n",
        "\n",
        "with open(\"cosine_sim.pkl\", \"wb\") as file:\n",
        "  pickle.dump(cosine_sim, file)"
      ]
    },
    {
      "cell_type": "code",
      "execution_count": 172,
      "metadata": {
        "id": "05Jgp8LQiO8u"
      },
      "outputs": [],
      "source": [
        "def get_recommendations(title, n_recommendations, cosine_sim=cosine_sim):\n",
        "    if title not in movies_df['title'].tolist():\n",
        "        print(\"There is no movie of this title in our dataset\")\n",
        "        return \n",
        "\n",
        "    # Get the index of the movie that matches the title\n",
        "    idx = movies_df.loc[movies_df['title'] == title].index.values[0]\n",
        "\n",
        "    # Get the pairwsie similarity scores of all movies with that movie\n",
        "    sim_scores = list(enumerate(cosine_sim[idx]))\n",
        "\n",
        "    # Sort the movies based on the similarity scores\n",
        "    sim_scores = sorted(sim_scores, key=lambda x: x[1], reverse=True)\n",
        "\n",
        "    sim_scores = sim_scores[1:n_recommendations+1]\n",
        "\n",
        "    # Return the top 10 most similar movies\n",
        "    return sim_scores"
      ]
    },
    {
      "cell_type": "code",
      "execution_count": 173,
      "metadata": {
        "id": "kI8HC3rBjwDS"
      },
      "outputs": [],
      "source": [
        "def get_dash_recommendations(title):\n",
        "    recomm = get_recommendations(title, 5)\n",
        "    recomm_lst = []\n",
        "    for idx, sim in recomm:\n",
        "      movie_name = movies_df.loc[movies_df.index == idx]['title'].tolist()[0]\n",
        "      sim = str(round(sim, 3))\n",
        "      recomm_lst.append(f'{movie_name}: {sim}')\n",
        "    return recomm_lst"
      ]
    },
    {
      "attachments": {},
      "cell_type": "markdown",
      "metadata": {
        "id": "O5Tp1ReeiO8x"
      },
      "source": [
        "## **2. Building the rating matrix**"
      ]
    },
    {
      "cell_type": "code",
      "execution_count": 174,
      "metadata": {
        "colab": {
          "base_uri": "https://localhost:8080/"
        },
        "id": "3pG7zhuZiO8x",
        "outputId": "ec34d07e-8d9c-43d0-9c2d-bc9eac1561bd"
      },
      "outputs": [
        {
          "name": "stderr",
          "output_type": "stream",
          "text": [
            "<ipython-input-174-40ae26b1ab2c>:2: SettingWithCopyWarning: \n",
            "A value is trying to be set on a copy of a slice from a DataFrame.\n",
            "Try using .loc[row_indexer,col_indexer] = value instead\n",
            "\n",
            "See the caveats in the documentation: https://pandas.pydata.org/pandas-docs/stable/user_guide/indexing.html#returning-a-view-versus-a-copy\n",
            "  movies_df['idx'] = movies_df.index\n"
          ]
        }
      ],
      "source": [
        "movies_df = movies_df[['id', 'title', 'overview_plus_keyword_preprocessed']]\n",
        "movies_df['idx'] = movies_df.index"
      ]
    },
    {
      "cell_type": "code",
      "execution_count": 175,
      "metadata": {
        "id": "hjOd5hXaiO8y"
      },
      "outputs": [],
      "source": [
        "ratings_df = pd.read_csv('./preprocessed_data/ratings_preprocessed.csv', index_col=0)\n",
        "ratings_df = ratings_df.loc[ratings_df['movieId'].isin(movies_df['id'].tolist())]\n"
      ]
    },
    {
      "cell_type": "code",
      "execution_count": 176,
      "metadata": {
        "id": "t2Tb6XvZiO8z"
      },
      "outputs": [],
      "source": [
        "def get_predictions(user_id, movie_id):\n",
        "    if movie_id not in movies_df['id'].tolist():\n",
        "        print(\"There is no movie of this title in our dataset\")\n",
        "        return\n",
        "    if user_id not in ratings_df['userId'].tolist():\n",
        "        print(\"There is no user like this in our dataset\")\n",
        "        return \n",
        "    \n",
        "    title = movies_df.loc[movies_df['id'] == movie_id]['title'].item()\n",
        "    sim_movies = get_recommendations(title, 20000)\n",
        "    df_user_sim_aux = ratings_df.loc[ratings_df['userId']==user_id]\n",
        "    df_user_sim_aux['sim'] = 0\n",
        "    df_user_sim_aux = df_user_sim_aux.merge(movies_df[['title', 'idx', 'id']], left_on='movieId', right_on='id')\n",
        "\n",
        "    for sim in sim_movies:\n",
        "        if int(sim[0]) in df_user_sim_aux['idx'].values:\n",
        "        # Check this product has been rated by the user and, then, we save this rating\n",
        "            df_user_sim_aux['sim'].loc[df_user_sim_aux['idx'] == int(sim[0])] = sim[1]\n",
        "\n",
        "    # Now, we can make the prediction\n",
        "    pred_rating = (df_user_sim_aux['rating']*df_user_sim_aux['sim']).sum()/df_user_sim_aux['sim'].sum()\n",
        "    return df_user_sim_aux.loc[df_user_sim_aux['sim']>0], pred_rating"
      ]
    },
    {
      "attachments": {},
      "cell_type": "markdown",
      "metadata": {
        "id": "cvYz1yOnUQJB"
      },
      "source": [
        "## **3. Evaluating model - data to the report**"
      ]
    },
    {
      "attachments": {},
      "cell_type": "markdown",
      "metadata": {
        "id": "1qd5QbUA_-BH"
      },
      "source": [
        "### 3.1 Choosing movies and users"
      ]
    },
    {
      "cell_type": "code",
      "execution_count": 177,
      "metadata": {
        "colab": {
          "base_uri": "https://localhost:8080/"
        },
        "id": "ACKZdOleT2bq",
        "outputId": "5f0f7f7f-b91b-4d71-9c72-e9fbd01d4d22"
      },
      "outputs": [
        {
          "name": "stdout",
          "output_type": "stream",
          "text": [
            "414\n",
            "11\n",
            "557\n"
          ]
        }
      ],
      "source": [
        "movies = ['Batman Forever', 'Star Wars', 'Spider-Man']\n",
        "for movie in movies:\n",
        "  print(movies_df.loc[movies_df['title'] == movie]['id'].item())"
      ]
    },
    {
      "cell_type": "code",
      "execution_count": 178,
      "metadata": {
        "colab": {
          "base_uri": "https://localhost:8080/"
        },
        "id": "vaSTnN9vUV8g",
        "outputId": "dcb1ac6c-d9fa-4a96-a537-c8418c404d5b"
      },
      "outputs": [
        {
          "data": {
            "text/plain": [
              "8659      1634\n",
              "179792    1436\n",
              "107720    1392\n",
              "45811     1326\n",
              "229879    1096\n",
              "          ... \n",
              "239972       1\n",
              "88879        1\n",
              "88909        1\n",
              "88914        1\n",
              "100340       1\n",
              "Name: userId, Length: 261562, dtype: int64"
            ]
          },
          "execution_count": 178,
          "metadata": {},
          "output_type": "execute_result"
        }
      ],
      "source": [
        "ratings_df['userId'].value_counts() # Using users that rated the greatest amount of movies"
      ]
    },
    {
      "attachments": {},
      "cell_type": "markdown",
      "metadata": {
        "id": "uNEiA-6xATLg"
      },
      "source": [
        "### 3.2 Calculate single prediction"
      ]
    },
    {
      "cell_type": "code",
      "execution_count": 179,
      "metadata": {
        "colab": {
          "base_uri": "https://localhost:8080/"
        },
        "id": "jybNufyjiO80",
        "outputId": "cb890bfc-8862-4166-824c-f94ef945b0f3"
      },
      "outputs": [
        {
          "name": "stderr",
          "output_type": "stream",
          "text": [
            "<ipython-input-176-3c8699fab78a>:12: SettingWithCopyWarning: \n",
            "A value is trying to be set on a copy of a slice from a DataFrame.\n",
            "Try using .loc[row_indexer,col_indexer] = value instead\n",
            "\n",
            "See the caveats in the documentation: https://pandas.pydata.org/pandas-docs/stable/user_guide/indexing.html#returning-a-view-versus-a-copy\n",
            "  df_user_sim_aux['sim'] = 0\n",
            "<ipython-input-176-3c8699fab78a>:18: SettingWithCopyWarning: \n",
            "A value is trying to be set on a copy of a slice from a DataFrame\n",
            "\n",
            "See the caveats in the documentation: https://pandas.pydata.org/pandas-docs/stable/user_guide/indexing.html#returning-a-view-versus-a-copy\n",
            "  df_user_sim_aux['sim'].loc[df_user_sim_aux['idx'] == int(sim[0])] = sim[1]\n"
          ]
        }
      ],
      "source": [
        "df_user_sim_aux, pred_rating = get_predictions(107720, 414)"
      ]
    },
    {
      "cell_type": "code",
      "execution_count": 180,
      "metadata": {
        "colab": {
          "base_uri": "https://localhost:8080/"
        },
        "id": "CkNGzRUNoWqN",
        "outputId": "6828cdc9-5520-4cd0-f1a3-ff26b9864e99"
      },
      "outputs": [
        {
          "data": {
            "text/plain": [
              "4.849612870317836"
            ]
          },
          "execution_count": 180,
          "metadata": {},
          "output_type": "execute_result"
        }
      ],
      "source": [
        "pred_rating"
      ]
    },
    {
      "cell_type": "code",
      "execution_count": 181,
      "metadata": {
        "colab": {
          "base_uri": "https://localhost:8080/",
          "height": 363
        },
        "id": "tFDF28zDNUSL",
        "outputId": "6dde91d2-a2bc-406c-87e6-881235e48816"
      },
      "outputs": [
        {
          "data": {
            "text/html": [
              "\n",
              "  <div id=\"df-b7650584-9890-4036-988c-1185b6fcf35c\">\n",
              "    <div class=\"colab-df-container\">\n",
              "      <div>\n",
              "<style scoped>\n",
              "    .dataframe tbody tr th:only-of-type {\n",
              "        vertical-align: middle;\n",
              "    }\n",
              "\n",
              "    .dataframe tbody tr th {\n",
              "        vertical-align: top;\n",
              "    }\n",
              "\n",
              "    .dataframe thead th {\n",
              "        text-align: right;\n",
              "    }\n",
              "</style>\n",
              "<table border=\"1\" class=\"dataframe\">\n",
              "  <thead>\n",
              "    <tr style=\"text-align: right;\">\n",
              "      <th></th>\n",
              "      <th>userId</th>\n",
              "      <th>movieId</th>\n",
              "      <th>rating</th>\n",
              "      <th>sim</th>\n",
              "      <th>title</th>\n",
              "      <th>idx</th>\n",
              "      <th>id</th>\n",
              "    </tr>\n",
              "  </thead>\n",
              "  <tbody>\n",
              "    <tr>\n",
              "      <th>230</th>\n",
              "      <td>107720</td>\n",
              "      <td>364</td>\n",
              "      <td>6.0</td>\n",
              "      <td>0.327897</td>\n",
              "      <td>Batman Returns</td>\n",
              "      <td>1313</td>\n",
              "      <td>364</td>\n",
              "    </tr>\n",
              "    <tr>\n",
              "      <th>172</th>\n",
              "      <td>107720</td>\n",
              "      <td>268</td>\n",
              "      <td>4.0</td>\n",
              "      <td>0.293520</td>\n",
              "      <td>Batman</td>\n",
              "      <td>582</td>\n",
              "      <td>268</td>\n",
              "    </tr>\n",
              "    <tr>\n",
              "      <th>248</th>\n",
              "      <td>107720</td>\n",
              "      <td>415</td>\n",
              "      <td>4.0</td>\n",
              "      <td>0.259142</td>\n",
              "      <td>Batman &amp; Robin</td>\n",
              "      <td>1475</td>\n",
              "      <td>415</td>\n",
              "    </tr>\n",
              "    <tr>\n",
              "      <th>174</th>\n",
              "      <td>107720</td>\n",
              "      <td>272</td>\n",
              "      <td>8.0</td>\n",
              "      <td>0.223875</td>\n",
              "      <td>Batman Begins</td>\n",
              "      <td>10093</td>\n",
              "      <td>272</td>\n",
              "    </tr>\n",
              "    <tr>\n",
              "      <th>1015</th>\n",
              "      <td>107720</td>\n",
              "      <td>2661</td>\n",
              "      <td>4.0</td>\n",
              "      <td>0.106883</td>\n",
              "      <td>Batman</td>\n",
              "      <td>8579</td>\n",
              "      <td>2661</td>\n",
              "    </tr>\n",
              "    <tr>\n",
              "      <th>470</th>\n",
              "      <td>107720</td>\n",
              "      <td>820</td>\n",
              "      <td>4.0</td>\n",
              "      <td>0.089430</td>\n",
              "      <td>JFK</td>\n",
              "      <td>3247</td>\n",
              "      <td>820</td>\n",
              "    </tr>\n",
              "    <tr>\n",
              "      <th>807</th>\n",
              "      <td>107720</td>\n",
              "      <td>1924</td>\n",
              "      <td>2.0</td>\n",
              "      <td>0.088710</td>\n",
              "      <td>Superman</td>\n",
              "      <td>2506</td>\n",
              "      <td>1924</td>\n",
              "    </tr>\n",
              "    <tr>\n",
              "      <th>797</th>\n",
              "      <td>107720</td>\n",
              "      <td>1902</td>\n",
              "      <td>4.0</td>\n",
              "      <td>0.081993</td>\n",
              "      <td>Open Your Eyes</td>\n",
              "      <td>2460</td>\n",
              "      <td>1902</td>\n",
              "    </tr>\n",
              "    <tr>\n",
              "      <th>898</th>\n",
              "      <td>107720</td>\n",
              "      <td>2118</td>\n",
              "      <td>6.0</td>\n",
              "      <td>0.073846</td>\n",
              "      <td>L.A. Confidential</td>\n",
              "      <td>1528</td>\n",
              "      <td>2118</td>\n",
              "    </tr>\n",
              "    <tr>\n",
              "      <th>798</th>\n",
              "      <td>107720</td>\n",
              "      <td>1903</td>\n",
              "      <td>4.0</td>\n",
              "      <td>0.071586</td>\n",
              "      <td>Vanilla Sky</td>\n",
              "      <td>4820</td>\n",
              "      <td>1903</td>\n",
              "    </tr>\n",
              "  </tbody>\n",
              "</table>\n",
              "</div>\n",
              "      <button class=\"colab-df-convert\" onclick=\"convertToInteractive('df-b7650584-9890-4036-988c-1185b6fcf35c')\"\n",
              "              title=\"Convert this dataframe to an interactive table.\"\n",
              "              style=\"display:none;\">\n",
              "        \n",
              "  <svg xmlns=\"http://www.w3.org/2000/svg\" height=\"24px\"viewBox=\"0 0 24 24\"\n",
              "       width=\"24px\">\n",
              "    <path d=\"M0 0h24v24H0V0z\" fill=\"none\"/>\n",
              "    <path d=\"M18.56 5.44l.94 2.06.94-2.06 2.06-.94-2.06-.94-.94-2.06-.94 2.06-2.06.94zm-11 1L8.5 8.5l.94-2.06 2.06-.94-2.06-.94L8.5 2.5l-.94 2.06-2.06.94zm10 10l.94 2.06.94-2.06 2.06-.94-2.06-.94-.94-2.06-.94 2.06-2.06.94z\"/><path d=\"M17.41 7.96l-1.37-1.37c-.4-.4-.92-.59-1.43-.59-.52 0-1.04.2-1.43.59L10.3 9.45l-7.72 7.72c-.78.78-.78 2.05 0 2.83L4 21.41c.39.39.9.59 1.41.59.51 0 1.02-.2 1.41-.59l7.78-7.78 2.81-2.81c.8-.78.8-2.07 0-2.86zM5.41 20L4 18.59l7.72-7.72 1.47 1.35L5.41 20z\"/>\n",
              "  </svg>\n",
              "      </button>\n",
              "      \n",
              "  <style>\n",
              "    .colab-df-container {\n",
              "      display:flex;\n",
              "      flex-wrap:wrap;\n",
              "      gap: 12px;\n",
              "    }\n",
              "\n",
              "    .colab-df-convert {\n",
              "      background-color: #E8F0FE;\n",
              "      border: none;\n",
              "      border-radius: 50%;\n",
              "      cursor: pointer;\n",
              "      display: none;\n",
              "      fill: #1967D2;\n",
              "      height: 32px;\n",
              "      padding: 0 0 0 0;\n",
              "      width: 32px;\n",
              "    }\n",
              "\n",
              "    .colab-df-convert:hover {\n",
              "      background-color: #E2EBFA;\n",
              "      box-shadow: 0px 1px 2px rgba(60, 64, 67, 0.3), 0px 1px 3px 1px rgba(60, 64, 67, 0.15);\n",
              "      fill: #174EA6;\n",
              "    }\n",
              "\n",
              "    [theme=dark] .colab-df-convert {\n",
              "      background-color: #3B4455;\n",
              "      fill: #D2E3FC;\n",
              "    }\n",
              "\n",
              "    [theme=dark] .colab-df-convert:hover {\n",
              "      background-color: #434B5C;\n",
              "      box-shadow: 0px 1px 3px 1px rgba(0, 0, 0, 0.15);\n",
              "      filter: drop-shadow(0px 1px 2px rgba(0, 0, 0, 0.3));\n",
              "      fill: #FFFFFF;\n",
              "    }\n",
              "  </style>\n",
              "\n",
              "      <script>\n",
              "        const buttonEl =\n",
              "          document.querySelector('#df-b7650584-9890-4036-988c-1185b6fcf35c button.colab-df-convert');\n",
              "        buttonEl.style.display =\n",
              "          google.colab.kernel.accessAllowed ? 'block' : 'none';\n",
              "\n",
              "        async function convertToInteractive(key) {\n",
              "          const element = document.querySelector('#df-b7650584-9890-4036-988c-1185b6fcf35c');\n",
              "          const dataTable =\n",
              "            await google.colab.kernel.invokeFunction('convertToInteractive',\n",
              "                                                     [key], {});\n",
              "          if (!dataTable) return;\n",
              "\n",
              "          const docLinkHtml = 'Like what you see? Visit the ' +\n",
              "            '<a target=\"_blank\" href=https://colab.research.google.com/notebooks/data_table.ipynb>data table notebook</a>'\n",
              "            + ' to learn more about interactive tables.';\n",
              "          element.innerHTML = '';\n",
              "          dataTable['output_type'] = 'display_data';\n",
              "          await google.colab.output.renderOutput(dataTable, element);\n",
              "          const docLink = document.createElement('div');\n",
              "          docLink.innerHTML = docLinkHtml;\n",
              "          element.appendChild(docLink);\n",
              "        }\n",
              "      </script>\n",
              "    </div>\n",
              "  </div>\n",
              "  "
            ],
            "text/plain": [
              "      userId  movieId  rating       sim              title    idx    id\n",
              "230   107720      364     6.0  0.327897     Batman Returns   1313   364\n",
              "172   107720      268     4.0  0.293520             Batman    582   268\n",
              "248   107720      415     4.0  0.259142     Batman & Robin   1475   415\n",
              "174   107720      272     8.0  0.223875      Batman Begins  10093   272\n",
              "1015  107720     2661     4.0  0.106883             Batman   8579  2661\n",
              "470   107720      820     4.0  0.089430                JFK   3247   820\n",
              "807   107720     1924     2.0  0.088710           Superman   2506  1924\n",
              "797   107720     1902     4.0  0.081993     Open Your Eyes   2460  1902\n",
              "898   107720     2118     6.0  0.073846  L.A. Confidential   1528  2118\n",
              "798   107720     1903     4.0  0.071586        Vanilla Sky   4820  1903"
            ]
          },
          "execution_count": 181,
          "metadata": {},
          "output_type": "execute_result"
        }
      ],
      "source": [
        "df_user_sim_aux.sort_values(by=['sim'], ascending=False).head(10)"
      ]
    },
    {
      "attachments": {},
      "cell_type": "markdown",
      "metadata": {
        "id": "6HJoW2fPAV83"
      },
      "source": [
        "### 3.3 Calculate recommendations to all of the movies"
      ]
    },
    {
      "cell_type": "code",
      "execution_count": 182,
      "metadata": {
        "colab": {
          "base_uri": "https://localhost:8080/"
        },
        "id": "8AqNzHbnB9In",
        "outputId": "18883e28-9c07-4c48-eecb-fcc93eb805e6"
      },
      "outputs": [
        {
          "name": "stdout",
          "output_type": "stream",
          "text": [
            "Batman Returns: 0.328\n",
            "Batman: 0.294\n",
            "Batman: Mask of the Phantasm: 0.262\n",
            "Batman & Robin: 0.259\n",
            "Batman Beyond: Return of the Joker: 0.245\n",
            "\n",
            "\n",
            "The Empire Strikes Back: 0.431\n",
            "Star Wars: Episode III - Revenge of the Sith: 0.302\n",
            "Return of the Jedi: 0.288\n",
            "Star Wars: Episode II - Attack of the Clones: 0.193\n",
            "Hot Shots! Part Deux: 0.192\n",
            "\n",
            "\n",
            "Arachnophobia: 0.342\n",
            "Spider-Man 2: 0.302\n",
            "X-Men: 0.183\n",
            "The Giant Spider Invasion: 0.164\n",
            "Hangman's Curse: 0.15\n",
            "\n",
            "\n"
          ]
        }
      ],
      "source": [
        "for movie in movies:\n",
        "  recomm = get_dash_recommendations(movie)\n",
        "  for r in recomm:\n",
        "    print(r)\n",
        "  print('\\n')"
      ]
    },
    {
      "attachments": {},
      "cell_type": "markdown",
      "metadata": {
        "id": "JyF9vsIjAdow"
      },
      "source": [
        "### 3.4 Data to general comparison"
      ]
    },
    {
      "cell_type": "code",
      "execution_count": 183,
      "metadata": {
        "colab": {
          "base_uri": "https://localhost:8080/"
        },
        "id": "OYuEZ9Vf27Gk",
        "outputId": "9093cc20-c99a-470c-87e4-8793d0d0f3b5"
      },
      "outputs": [
        {
          "name": "stdout",
          "output_type": "stream",
          "text": [
            "Batman Forever\n"
          ]
        },
        {
          "name": "stderr",
          "output_type": "stream",
          "text": [
            "<ipython-input-176-3c8699fab78a>:12: SettingWithCopyWarning: \n",
            "A value is trying to be set on a copy of a slice from a DataFrame.\n",
            "Try using .loc[row_indexer,col_indexer] = value instead\n",
            "\n",
            "See the caveats in the documentation: https://pandas.pydata.org/pandas-docs/stable/user_guide/indexing.html#returning-a-view-versus-a-copy\n",
            "  df_user_sim_aux['sim'] = 0\n",
            "<ipython-input-176-3c8699fab78a>:18: SettingWithCopyWarning: \n",
            "A value is trying to be set on a copy of a slice from a DataFrame\n",
            "\n",
            "See the caveats in the documentation: https://pandas.pydata.org/pandas-docs/stable/user_guide/indexing.html#returning-a-view-versus-a-copy\n",
            "  df_user_sim_aux['sim'].loc[df_user_sim_aux['idx'] == int(sim[0])] = sim[1]\n"
          ]
        },
        {
          "name": "stdout",
          "output_type": "stream",
          "text": [
            "6.31430137853958\n",
            "Star Wars\n"
          ]
        },
        {
          "name": "stderr",
          "output_type": "stream",
          "text": [
            "<ipython-input-176-3c8699fab78a>:12: SettingWithCopyWarning: \n",
            "A value is trying to be set on a copy of a slice from a DataFrame.\n",
            "Try using .loc[row_indexer,col_indexer] = value instead\n",
            "\n",
            "See the caveats in the documentation: https://pandas.pydata.org/pandas-docs/stable/user_guide/indexing.html#returning-a-view-versus-a-copy\n",
            "  df_user_sim_aux['sim'] = 0\n",
            "<ipython-input-176-3c8699fab78a>:18: SettingWithCopyWarning: \n",
            "A value is trying to be set on a copy of a slice from a DataFrame\n",
            "\n",
            "See the caveats in the documentation: https://pandas.pydata.org/pandas-docs/stable/user_guide/indexing.html#returning-a-view-versus-a-copy\n",
            "  df_user_sim_aux['sim'].loc[df_user_sim_aux['idx'] == int(sim[0])] = sim[1]\n"
          ]
        },
        {
          "name": "stdout",
          "output_type": "stream",
          "text": [
            "9.436587072076145\n",
            "Terminator 3: Rise of the Machines\n",
            "7.304236582377969\n"
          ]
        },
        {
          "name": "stderr",
          "output_type": "stream",
          "text": [
            "<ipython-input-176-3c8699fab78a>:12: SettingWithCopyWarning: \n",
            "A value is trying to be set on a copy of a slice from a DataFrame.\n",
            "Try using .loc[row_indexer,col_indexer] = value instead\n",
            "\n",
            "See the caveats in the documentation: https://pandas.pydata.org/pandas-docs/stable/user_guide/indexing.html#returning-a-view-versus-a-copy\n",
            "  df_user_sim_aux['sim'] = 0\n",
            "<ipython-input-176-3c8699fab78a>:18: SettingWithCopyWarning: \n",
            "A value is trying to be set on a copy of a slice from a DataFrame\n",
            "\n",
            "See the caveats in the documentation: https://pandas.pydata.org/pandas-docs/stable/user_guide/indexing.html#returning-a-view-versus-a-copy\n",
            "  df_user_sim_aux['sim'].loc[df_user_sim_aux['idx'] == int(sim[0])] = sim[1]\n"
          ]
        }
      ],
      "source": [
        "users_id = [480, 260, 15]\n",
        "movies_id = [414, 11, 296] \n",
        "\n",
        "for user_id, movie_id in zip(users_id, movies_id):\n",
        "    print(movies_df.loc[movies_df['id'] == movie_id]['title'].item())\n",
        "    df_user_sim_aux, pred_rating = get_predictions(user_id, movie_id)\n",
        "    print(pred_rating)"
      ]
    },
    {
      "cell_type": "code",
      "execution_count": null,
      "metadata": {
        "id": "yLNILy9DAmht"
      },
      "outputs": [],
      "source": []
    }
  ],
  "metadata": {
    "colab": {
      "provenance": [],
      "toc_visible": true
    },
    "kernelspec": {
      "display_name": "base",
      "language": "python",
      "name": "python3"
    },
    "language_info": {
      "codemirror_mode": {
        "name": "ipython",
        "version": 3
      },
      "file_extension": ".py",
      "mimetype": "text/x-python",
      "name": "python",
      "nbconvert_exporter": "python",
      "pygments_lexer": "ipython3",
      "version": "3.9.12"
    },
    "orig_nbformat": 4
  },
  "nbformat": 4,
  "nbformat_minor": 0
}
