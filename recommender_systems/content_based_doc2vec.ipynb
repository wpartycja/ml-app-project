{
  "cells": [
    {
      "cell_type": "code",
      "execution_count": 32,
      "metadata": {
        "id": "vqfhsd9i-SoH"
      },
      "outputs": [],
      "source": [
        "import pandas as pd\n",
        "from sklearn.metrics.pairwise import linear_kernel\n",
        "import pickle\n",
        "from gensim.models.doc2vec import Doc2Vec, TaggedDocument\n",
        "\n",
        "\n",
        "movies_df = pd.read_csv('./preprocessed_data/movies_preprocessed.csv', index_col=0)"
      ]
    },
    {
      "attachments": {},
      "cell_type": "markdown",
      "metadata": {
        "id": "l5nyITzxBVxa"
      },
      "source": [
        "## **0. Small preprocess**"
      ]
    },
    {
      "cell_type": "code",
      "execution_count": 33,
      "metadata": {
        "id": "eAI8pI0eCdC9"
      },
      "outputs": [],
      "source": [
        "movies_df['overview_plus_keyword_preprocessed'] = movies_df['overview_plus_keyword_preprocessed'].astype(str)\n",
        "movies_df['overview_plus_keyword_preprocessed'].dropna(inplace=True)"
      ]
    },
    {
      "cell_type": "code",
      "execution_count": 34,
      "metadata": {
        "id": "HPmrMFaM5XFb"
      },
      "outputs": [],
      "source": [
        "def tokenize(txt):\n",
        "  return txt.split(sep=\" \")"
      ]
    },
    {
      "cell_type": "code",
      "execution_count": 35,
      "metadata": {
        "id": "LGF0GGuztjVr"
      },
      "outputs": [],
      "source": [
        "movies_df = movies_df[['id', 'title', 'overview_plus_keyword_preprocessed']]\n",
        "movies_df['tokens'] = movies_df['overview_plus_keyword_preprocessed'].apply(lambda x: tokenize(x))\n"
      ]
    },
    {
      "attachments": {},
      "cell_type": "markdown",
      "metadata": {
        "id": "1GBnzj-P-SoN"
      },
      "source": [
        "## **1. Doc2Vec**"
      ]
    },
    {
      "cell_type": "code",
      "execution_count": 36,
      "metadata": {
        "id": "eNzp6SCq-SoP"
      },
      "outputs": [],
      "source": [
        "keyword_id_list = []\n",
        "for i, row in movies_df.iterrows():\n",
        "    keyword_id_list.append((row[\"id\"], row[\"tokens\"]))"
      ]
    },
    {
      "cell_type": "code",
      "execution_count": 37,
      "metadata": {
        "id": "k8HharV0CGk8"
      },
      "outputs": [],
      "source": [
        "documents = [TaggedDocument(doc, [i]) for i, doc in keyword_id_list]"
      ]
    },
    {
      "cell_type": "code",
      "execution_count": 8,
      "metadata": {
        "colab": {
          "base_uri": "https://localhost:8080/"
        },
        "id": "4LGpMLPZCJBI",
        "outputId": "f17c462e-26bf-4ecd-a50b-fb4b81d98592"
      },
      "outputs": [
        {
          "name": "stderr",
          "output_type": "stream",
          "text": [
            "WARNING:gensim.models.doc2vec:Highest int doctag (445590) larger than count of documents (10231). This means at least 435359 excess, unused slots (870718000 bytes) will be allocated for vectors.\n"
          ]
        }
      ],
      "source": [
        "model_overviews = Doc2Vec(documents, vector_size=500, window=75, min_count=20)"
      ]
    },
    {
      "cell_type": "code",
      "execution_count": 38,
      "metadata": {
        "colab": {
          "base_uri": "https://localhost:8080/"
        },
        "id": "ZJN0fQ8kCQwQ",
        "outputId": "06607026-cd79-4ad3-edb6-db803ab6bb9d"
      },
      "outputs": [
        {
          "data": {
            "text/plain": [
              "[(32078, 0.5796336531639099),\n",
              " (4477, 0.5758765935897827),\n",
              " (32652, 0.562588632106781),\n",
              " (12145, 0.5391075611114502),\n",
              " (1493, 0.5371254682540894),\n",
              " (5137, 0.5343013405799866),\n",
              " (44233, 0.5283899903297424),\n",
              " (4547, 0.5267226696014404),\n",
              " (1572, 0.5218833088874817),\n",
              " (12535, 0.518213152885437)]"
            ]
          },
          "execution_count": 38,
          "metadata": {},
          "output_type": "execute_result"
        }
      ],
      "source": [
        "recomm = model_overviews.dv.most_similar(414, 10)\n",
        "recomm"
      ]
    },
    {
      "attachments": {},
      "cell_type": "markdown",
      "metadata": {
        "id": "3fUS09qP-SoW"
      },
      "source": [
        "## **2. Building the rating matrix**"
      ]
    },
    {
      "cell_type": "code",
      "execution_count": 39,
      "metadata": {
        "id": "5AxTGW35-SoX"
      },
      "outputs": [],
      "source": [
        "ratings_df = pd.read_csv('./preprocessed_data/ratings_preprocessed.csv', index_col=0)\n",
        "ratings_df = ratings_df.loc[ratings_df['movieId'].isin(movies_df['id'].tolist())]\n"
      ]
    },
    {
      "cell_type": "code",
      "execution_count": 40,
      "metadata": {
        "id": "NKCO3fk0-SoY"
      },
      "outputs": [],
      "source": [
        "def get_predictions(user_id, movie_id):\n",
        "    if movie_id not in movies_df['id'].tolist():\n",
        "        print(\"There is no movie of this title in our dataset\")\n",
        "        return\n",
        "    if user_id not in ratings_df['userId'].tolist():\n",
        "        print(\"There is no user like this in our dataset\")\n",
        "        return \n",
        "    \n",
        "    sim_movies = model_overviews.dv.most_similar(movie_id, 10000)\n",
        "    print(sim_movies)\n",
        "    df_user_sim_aux = ratings_df.loc[ratings_df['userId']==user_id]\n",
        "    df_user_sim_aux['sim'] = 0\n",
        "    df_user_sim_aux = df_user_sim_aux.merge(movies_df[['title', 'id']], left_on='movieId', right_on='id')\n",
        "\n",
        "    print(len(df_user_sim_aux))\n",
        "    \n",
        "    for sim in sim_movies:\n",
        "        if int(sim[0]) in df_user_sim_aux['id'].values:\n",
        "        # Check this product has been rated by the user and, then, we save this rating\n",
        "            df_user_sim_aux['sim'].loc[df_user_sim_aux['id'] == int(sim[0])] = sim[1]\n",
        "\n",
        "    \n",
        "    print('List of similar products:')\n",
        "    print(df_user_sim_aux.loc[df_user_sim_aux['sim']>0])\n",
        "    # Now, we can make the prediction\n",
        "    pred_rating = (df_user_sim_aux['rating']*df_user_sim_aux['sim']).sum()/df_user_sim_aux['sim'].sum()\n",
        "    print('The predicted scoring is: %2.2f' %pred_rating)\n",
        "    return df_user_sim_aux.loc[df_user_sim_aux['sim']>0], pred_rating"
      ]
    },
    {
      "attachments": {},
      "cell_type": "markdown",
      "metadata": {
        "id": "oUv_wAKmUll_"
      },
      "source": [
        "## **3. Evaluating model - data to the report**"
      ]
    },
    {
      "attachments": {},
      "cell_type": "markdown",
      "metadata": {
        "id": "uCA8e60EBqvl"
      },
      "source": [
        "### 3.1 Choosing movies and users"
      ]
    },
    {
      "cell_type": "code",
      "execution_count": 41,
      "metadata": {
        "colab": {
          "base_uri": "https://localhost:8080/"
        },
        "id": "yrh3zITKUhHH",
        "outputId": "49041580-b712-4ee4-f32e-d93ba07fde97"
      },
      "outputs": [
        {
          "name": "stdout",
          "output_type": "stream",
          "text": [
            "414\n",
            "11\n",
            "557\n"
          ]
        }
      ],
      "source": [
        "movies = ['Batman Forever', 'Star Wars', 'Spider-Man']\n",
        "for movie in movies:\n",
        "  print(movies_df.loc[movies_df['title'] == movie]['id'].item())"
      ]
    },
    {
      "cell_type": "code",
      "execution_count": 42,
      "metadata": {
        "colab": {
          "base_uri": "https://localhost:8080/"
        },
        "id": "fEAt4xRdUkBK",
        "outputId": "7570a262-26bb-43fb-8b53-a4eab5861726"
      },
      "outputs": [
        {
          "data": {
            "text/plain": [
              "8659      1634\n",
              "179792    1436\n",
              "107720    1392\n",
              "45811     1326\n",
              "229879    1096\n",
              "          ... \n",
              "239972       1\n",
              "88879        1\n",
              "88909        1\n",
              "88914        1\n",
              "100340       1\n",
              "Name: userId, Length: 261562, dtype: int64"
            ]
          },
          "execution_count": 42,
          "metadata": {},
          "output_type": "execute_result"
        }
      ],
      "source": [
        "ratings_df['userId'].value_counts()"
      ]
    },
    {
      "attachments": {},
      "cell_type": "markdown",
      "metadata": {
        "id": "PbFYGJH_Buy9"
      },
      "source": [
        "### 3.2 Give general recomendation (similarities)"
      ]
    },
    {
      "cell_type": "code",
      "execution_count": 43,
      "metadata": {
        "colab": {
          "base_uri": "https://localhost:8080/"
        },
        "id": "wz94-7FPUzMy",
        "outputId": "b0602e57-dccc-4117-f2b4-1eeb7c07c983"
      },
      "outputs": [
        {
          "name": "stdout",
          "output_type": "stream",
          "text": [
            "Spider-Man 2: 0.827\n",
            "House of the Dead: 0.816\n",
            "If Looks Could Kill: 0.815\n",
            "Young Sherlock Holmes: 0.796\n",
            "Agent Cody Banks: 0.79\n",
            "Charly: 0.782\n",
            "Hangman's Curse: 0.766\n",
            "Teacher's Pet: 0.761\n",
            "Firestarter: 0.76\n",
            "Class of Nuke 'Em High 2: Subhumanoid Meltdown: 0.742\n"
          ]
        }
      ],
      "source": [
        "recomm = model_overviews.dv.most_similar(557)\n",
        "for id, sim in recomm:\n",
        "  movie_name = movies_df.loc[movies_df['id'] == id]['title'].tolist()[0]\n",
        "  sim = str(round(sim, 3))\n",
        "  print(f'{movie_name}: {sim}')"
      ]
    },
    {
      "attachments": {},
      "cell_type": "markdown",
      "metadata": {
        "id": "kfdCpOOXCPQv"
      },
      "source": [
        "## 3.3 Calculate single prediction"
      ]
    },
    {
      "cell_type": "code",
      "execution_count": 44,
      "metadata": {
        "colab": {
          "base_uri": "https://localhost:8080/"
        },
        "id": "ZJLzt_k9-SoZ",
        "outputId": "0e94e9b0-59c9-4354-afbf-a2e4c6eff726"
      },
      "outputs": [
        {
          "name": "stdout",
          "output_type": "stream",
          "text": [
            "[(22434, 0.5913615822792053), (11059, 0.5887901186943054), (10923, 0.5763324499130249), (11904, 0.5698927640914917), (29146, 0.5689902305603027), (558, 0.5681638121604919), (10726, 0.5577535629272461), (42570, 0.5540615916252136), (24034, 0.5533162951469421), (11495, 0.5520579218864441)]\n",
            "1635\n",
            "List of similar products:\n",
            "     userId  movieId  rating       sim         title   id\n",
            "300    8659      558     6.0  0.568164  Spider-Man 2  558\n",
            "The predicted scoring is: 6.00\n"
          ]
        },
        {
          "name": "stderr",
          "output_type": "stream",
          "text": [
            "<ipython-input-40-b313a4cc97e6>:12: SettingWithCopyWarning: \n",
            "A value is trying to be set on a copy of a slice from a DataFrame.\n",
            "Try using .loc[row_indexer,col_indexer] = value instead\n",
            "\n",
            "See the caveats in the documentation: https://pandas.pydata.org/pandas-docs/stable/user_guide/indexing.html#returning-a-view-versus-a-copy\n",
            "  df_user_sim_aux['sim'] = 0\n",
            "<ipython-input-40-b313a4cc97e6>:20: SettingWithCopyWarning: \n",
            "A value is trying to be set on a copy of a slice from a DataFrame\n",
            "\n",
            "See the caveats in the documentation: https://pandas.pydata.org/pandas-docs/stable/user_guide/indexing.html#returning-a-view-versus-a-copy\n",
            "  df_user_sim_aux['sim'].loc[df_user_sim_aux['id'] == int(sim[0])] = sim[1]\n"
          ]
        }
      ],
      "source": [
        "df_user_sim_aux, pred_rating = get_predictions(8659, 557)"
      ]
    },
    {
      "cell_type": "code",
      "execution_count": 45,
      "metadata": {
        "colab": {
          "base_uri": "https://localhost:8080/",
          "height": 81
        },
        "id": "ceIStFlN-Soa",
        "outputId": "93df4505-1c55-4ef9-c7ad-5eb9e2867da5"
      },
      "outputs": [
        {
          "data": {
            "text/html": [
              "\n",
              "  <div id=\"df-03c700b2-4e04-41ac-813c-d98627e93e74\">\n",
              "    <div class=\"colab-df-container\">\n",
              "      <div>\n",
              "<style scoped>\n",
              "    .dataframe tbody tr th:only-of-type {\n",
              "        vertical-align: middle;\n",
              "    }\n",
              "\n",
              "    .dataframe tbody tr th {\n",
              "        vertical-align: top;\n",
              "    }\n",
              "\n",
              "    .dataframe thead th {\n",
              "        text-align: right;\n",
              "    }\n",
              "</style>\n",
              "<table border=\"1\" class=\"dataframe\">\n",
              "  <thead>\n",
              "    <tr style=\"text-align: right;\">\n",
              "      <th></th>\n",
              "      <th>userId</th>\n",
              "      <th>movieId</th>\n",
              "      <th>rating</th>\n",
              "      <th>sim</th>\n",
              "      <th>title</th>\n",
              "      <th>id</th>\n",
              "    </tr>\n",
              "  </thead>\n",
              "  <tbody>\n",
              "    <tr>\n",
              "      <th>300</th>\n",
              "      <td>8659</td>\n",
              "      <td>558</td>\n",
              "      <td>6.0</td>\n",
              "      <td>0.568164</td>\n",
              "      <td>Spider-Man 2</td>\n",
              "      <td>558</td>\n",
              "    </tr>\n",
              "  </tbody>\n",
              "</table>\n",
              "</div>\n",
              "      <button class=\"colab-df-convert\" onclick=\"convertToInteractive('df-03c700b2-4e04-41ac-813c-d98627e93e74')\"\n",
              "              title=\"Convert this dataframe to an interactive table.\"\n",
              "              style=\"display:none;\">\n",
              "        \n",
              "  <svg xmlns=\"http://www.w3.org/2000/svg\" height=\"24px\"viewBox=\"0 0 24 24\"\n",
              "       width=\"24px\">\n",
              "    <path d=\"M0 0h24v24H0V0z\" fill=\"none\"/>\n",
              "    <path d=\"M18.56 5.44l.94 2.06.94-2.06 2.06-.94-2.06-.94-.94-2.06-.94 2.06-2.06.94zm-11 1L8.5 8.5l.94-2.06 2.06-.94-2.06-.94L8.5 2.5l-.94 2.06-2.06.94zm10 10l.94 2.06.94-2.06 2.06-.94-2.06-.94-.94-2.06-.94 2.06-2.06.94z\"/><path d=\"M17.41 7.96l-1.37-1.37c-.4-.4-.92-.59-1.43-.59-.52 0-1.04.2-1.43.59L10.3 9.45l-7.72 7.72c-.78.78-.78 2.05 0 2.83L4 21.41c.39.39.9.59 1.41.59.51 0 1.02-.2 1.41-.59l7.78-7.78 2.81-2.81c.8-.78.8-2.07 0-2.86zM5.41 20L4 18.59l7.72-7.72 1.47 1.35L5.41 20z\"/>\n",
              "  </svg>\n",
              "      </button>\n",
              "      \n",
              "  <style>\n",
              "    .colab-df-container {\n",
              "      display:flex;\n",
              "      flex-wrap:wrap;\n",
              "      gap: 12px;\n",
              "    }\n",
              "\n",
              "    .colab-df-convert {\n",
              "      background-color: #E8F0FE;\n",
              "      border: none;\n",
              "      border-radius: 50%;\n",
              "      cursor: pointer;\n",
              "      display: none;\n",
              "      fill: #1967D2;\n",
              "      height: 32px;\n",
              "      padding: 0 0 0 0;\n",
              "      width: 32px;\n",
              "    }\n",
              "\n",
              "    .colab-df-convert:hover {\n",
              "      background-color: #E2EBFA;\n",
              "      box-shadow: 0px 1px 2px rgba(60, 64, 67, 0.3), 0px 1px 3px 1px rgba(60, 64, 67, 0.15);\n",
              "      fill: #174EA6;\n",
              "    }\n",
              "\n",
              "    [theme=dark] .colab-df-convert {\n",
              "      background-color: #3B4455;\n",
              "      fill: #D2E3FC;\n",
              "    }\n",
              "\n",
              "    [theme=dark] .colab-df-convert:hover {\n",
              "      background-color: #434B5C;\n",
              "      box-shadow: 0px 1px 3px 1px rgba(0, 0, 0, 0.15);\n",
              "      filter: drop-shadow(0px 1px 2px rgba(0, 0, 0, 0.3));\n",
              "      fill: #FFFFFF;\n",
              "    }\n",
              "  </style>\n",
              "\n",
              "      <script>\n",
              "        const buttonEl =\n",
              "          document.querySelector('#df-03c700b2-4e04-41ac-813c-d98627e93e74 button.colab-df-convert');\n",
              "        buttonEl.style.display =\n",
              "          google.colab.kernel.accessAllowed ? 'block' : 'none';\n",
              "\n",
              "        async function convertToInteractive(key) {\n",
              "          const element = document.querySelector('#df-03c700b2-4e04-41ac-813c-d98627e93e74');\n",
              "          const dataTable =\n",
              "            await google.colab.kernel.invokeFunction('convertToInteractive',\n",
              "                                                     [key], {});\n",
              "          if (!dataTable) return;\n",
              "\n",
              "          const docLinkHtml = 'Like what you see? Visit the ' +\n",
              "            '<a target=\"_blank\" href=https://colab.research.google.com/notebooks/data_table.ipynb>data table notebook</a>'\n",
              "            + ' to learn more about interactive tables.';\n",
              "          element.innerHTML = '';\n",
              "          dataTable['output_type'] = 'display_data';\n",
              "          await google.colab.output.renderOutput(dataTable, element);\n",
              "          const docLink = document.createElement('div');\n",
              "          docLink.innerHTML = docLinkHtml;\n",
              "          element.appendChild(docLink);\n",
              "        }\n",
              "      </script>\n",
              "    </div>\n",
              "  </div>\n",
              "  "
            ],
            "text/plain": [
              "     userId  movieId  rating       sim         title   id\n",
              "300    8659      558     6.0  0.568164  Spider-Man 2  558"
            ]
          },
          "execution_count": 45,
          "metadata": {},
          "output_type": "execute_result"
        }
      ],
      "source": [
        "df_user_sim_aux"
      ]
    },
    {
      "cell_type": "code",
      "execution_count": 46,
      "metadata": {
        "colab": {
          "base_uri": "https://localhost:8080/"
        },
        "id": "2ALy2TmLYb0m",
        "outputId": "6adfa3e2-45c1-4057-ec19-7de7cf4fd561"
      },
      "outputs": [
        {
          "data": {
            "text/plain": [
              "6.0"
            ]
          },
          "execution_count": 46,
          "metadata": {},
          "output_type": "execute_result"
        }
      ],
      "source": [
        "pred_rating"
      ]
    },
    {
      "attachments": {},
      "cell_type": "markdown",
      "metadata": {
        "id": "ZVAtPCgVCUpS"
      },
      "source": [
        "### 3.4 Data to general comparison"
      ]
    },
    {
      "cell_type": "code",
      "execution_count": 47,
      "metadata": {
        "colab": {
          "base_uri": "https://localhost:8080/"
        },
        "id": "jQpzM-wu-VbP",
        "outputId": "f45cfe70-5717-4210-9ad7-f4de133f89f9"
      },
      "outputs": [
        {
          "name": "stdout",
          "output_type": "stream",
          "text": [
            "Batman Forever\n",
            "[(4477, 0.5524433851242065), (32078, 0.5517944693565369), (32652, 0.5365716814994812), (5137, 0.5280776619911194), (12535, 0.523230254650116), (24558, 0.5217174291610718), (1642, 0.5178608298301697), (44233, 0.512367308139801), (1572, 0.5100498795509338), (1493, 0.5074796676635742)]\n",
            "32\n",
            "List of similar products:\n",
            "Empty DataFrame\n",
            "Columns: [userId, movieId, rating, sim, title, id]\n",
            "Index: []\n",
            "The predicted scoring is: nan\n",
            "nan\n",
            "Star Wars\n"
          ]
        },
        {
          "name": "stderr",
          "output_type": "stream",
          "text": [
            "<ipython-input-40-b313a4cc97e6>:12: SettingWithCopyWarning: \n",
            "A value is trying to be set on a copy of a slice from a DataFrame.\n",
            "Try using .loc[row_indexer,col_indexer] = value instead\n",
            "\n",
            "See the caveats in the documentation: https://pandas.pydata.org/pandas-docs/stable/user_guide/indexing.html#returning-a-view-versus-a-copy\n",
            "  df_user_sim_aux['sim'] = 0\n",
            "<ipython-input-40-b313a4cc97e6>:26: RuntimeWarning: invalid value encountered in double_scalars\n",
            "  pred_rating = (df_user_sim_aux['rating']*df_user_sim_aux['sim']).sum()/df_user_sim_aux['sim'].sum()\n"
          ]
        },
        {
          "name": "stdout",
          "output_type": "stream",
          "text": [
            "[(118910, 0.6668151617050171), (1891, 0.6665468215942383), (15121, 0.6660174131393433), (15379, 0.6629526615142822), (36669, 0.6617326140403748), (11949, 0.6612383723258972), (31010, 0.6575192809104919), (14653, 0.6573393940925598), (49689, 0.6566340923309326), (20457, 0.6565850377082825)]\n",
            "5\n",
            "List of similar products:\n",
            "Empty DataFrame\n",
            "Columns: [userId, movieId, rating, sim, title, id]\n",
            "Index: []\n",
            "The predicted scoring is: nan\n",
            "nan\n",
            "Terminator 3: Rise of the Machines\n"
          ]
        },
        {
          "name": "stderr",
          "output_type": "stream",
          "text": [
            "<ipython-input-40-b313a4cc97e6>:12: SettingWithCopyWarning: \n",
            "A value is trying to be set on a copy of a slice from a DataFrame.\n",
            "Try using .loc[row_indexer,col_indexer] = value instead\n",
            "\n",
            "See the caveats in the documentation: https://pandas.pydata.org/pandas-docs/stable/user_guide/indexing.html#returning-a-view-versus-a-copy\n",
            "  df_user_sim_aux['sim'] = 0\n",
            "<ipython-input-40-b313a4cc97e6>:26: RuntimeWarning: invalid value encountered in double_scalars\n",
            "  pred_rating = (df_user_sim_aux['rating']*df_user_sim_aux['sim']).sum()/df_user_sim_aux['sim'].sum()\n"
          ]
        },
        {
          "name": "stdout",
          "output_type": "stream",
          "text": [
            "[(6171, 0.6184961795806885), (2191, 0.5976189970970154), (24099, 0.5786418318748474), (10329, 0.5723732709884644), (77593, 0.5681955814361572), (11551, 0.5636097192764282), (10787, 0.5615474581718445), (9276, 0.5614514350891113), (10690, 0.55548495054245), (1362, 0.5519055128097534)]\n",
            "46\n",
            "List of similar products:\n",
            "Empty DataFrame\n",
            "Columns: [userId, movieId, rating, sim, title, id]\n",
            "Index: []\n",
            "The predicted scoring is: nan\n",
            "nan\n"
          ]
        },
        {
          "name": "stderr",
          "output_type": "stream",
          "text": [
            "<ipython-input-40-b313a4cc97e6>:12: SettingWithCopyWarning: \n",
            "A value is trying to be set on a copy of a slice from a DataFrame.\n",
            "Try using .loc[row_indexer,col_indexer] = value instead\n",
            "\n",
            "See the caveats in the documentation: https://pandas.pydata.org/pandas-docs/stable/user_guide/indexing.html#returning-a-view-versus-a-copy\n",
            "  df_user_sim_aux['sim'] = 0\n",
            "<ipython-input-40-b313a4cc97e6>:26: RuntimeWarning: invalid value encountered in double_scalars\n",
            "  pred_rating = (df_user_sim_aux['rating']*df_user_sim_aux['sim']).sum()/df_user_sim_aux['sim'].sum()\n"
          ]
        }
      ],
      "source": [
        "users_id = [480, 260, 15]\n",
        "movies_id = [414, 11, 296] \n",
        "\n",
        "for user_id, movie_id in zip(users_id, movies_id):\n",
        "    print(movies_df.loc[movies_df['id'] == movie_id]['title'].item())\n",
        "    df_user_sim_aux, pred_rating = get_predictions(user_id, movie_id)\n",
        "    print(pred_rating)"
      ]
    }
  ],
  "metadata": {
    "colab": {
      "provenance": []
    },
    "kernelspec": {
      "display_name": "base",
      "language": "python",
      "name": "python3"
    },
    "language_info": {
      "codemirror_mode": {
        "name": "ipython",
        "version": 3
      },
      "file_extension": ".py",
      "mimetype": "text/x-python",
      "name": "python",
      "nbconvert_exporter": "python",
      "pygments_lexer": "ipython3",
      "version": "3.9.12"
    },
    "orig_nbformat": 4
  },
  "nbformat": 4,
  "nbformat_minor": 0
}
