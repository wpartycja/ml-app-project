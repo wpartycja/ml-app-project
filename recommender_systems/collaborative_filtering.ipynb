{
  "cells": [
    {
      "cell_type": "code",
      "execution_count": 2,
      "metadata": {
        "id": "DdPUSoZixosC"
      },
      "outputs": [],
      "source": [
        "import pandas as pd\n",
        "import numpy as np\n",
        "from surprise import Reader, Dataset"
      ]
    },
    {
      "cell_type": "code",
      "execution_count": 19,
      "metadata": {
        "id": "Ihv9Mlg50pzf"
      },
      "outputs": [],
      "source": [
        "movies_df = pd.read_csv(\"./preprocessed_data/movies_preprocessed.csv\", index_col=0)"
      ]
    },
    {
      "attachments": {},
      "cell_type": "markdown",
      "metadata": {
        "id": "__NMIDztCrYA"
      },
      "source": [
        "## **1. Loading and building train set**"
      ]
    },
    {
      "cell_type": "code",
      "execution_count": 5,
      "metadata": {
        "id": "A5joHMTnxosI"
      },
      "outputs": [],
      "source": [
        "ratings_df = pd.read_csv('./preprocessed_data/ratings_small_preprocessed.csv', index_col=0)\n",
        "\n",
        "reader = Reader(rating_scale=(0,10))\n",
        "data = Dataset.load_from_df(ratings_df[['userId', 'movieId', 'rating']], reader)\n"
      ]
    },
    {
      "cell_type": "code",
      "execution_count": 6,
      "metadata": {
        "id": "vWXyzaZ0xosJ"
      },
      "outputs": [],
      "source": [
        "trainset = data.build_full_trainset()\n"
      ]
    },
    {
      "attachments": {},
      "cell_type": "markdown",
      "metadata": {
        "id": "j9GW2wx4Cyd5"
      },
      "source": [
        "## **2. Building a model**"
      ]
    },
    {
      "cell_type": "code",
      "execution_count": 7,
      "metadata": {
        "colab": {
          "base_uri": "https://localhost:8080/"
        },
        "id": "jSs7VBMGxosJ",
        "outputId": "493c4264-caa5-4f7f-b7d0-ca3014deeaf5"
      },
      "outputs": [
        {
          "name": "stdout",
          "output_type": "stream",
          "text": [
            "Computing the cosine similarity matrix...\n",
            "Done computing similarity matrix.\n"
          ]
        },
        {
          "data": {
            "text/plain": [
              "<surprise.prediction_algorithms.knns.KNNWithMeans at 0x7f880787a320>"
            ]
          },
          "execution_count": 7,
          "metadata": {},
          "output_type": "execute_result"
        }
      ],
      "source": [
        "from surprise.prediction_algorithms.knns import KNNWithMeans\n",
        "\n",
        "k = 40\n",
        "min_k = 4\n",
        "sim_options = {'name': 'cosine', 'user_based': True}\n",
        "\n",
        "KNNalgo = KNNWithMeans(k=k, min_k=min_k, sim_options=sim_options)\n",
        "KNNalgo.fit(trainset)\n"
      ]
    },
    {
      "attachments": {},
      "cell_type": "markdown",
      "metadata": {
        "id": "zgSHmx9FC3OC"
      },
      "source": [
        "## **3. Choosing a data to the resport**"
      ]
    },
    {
      "cell_type": "code",
      "execution_count": 11,
      "metadata": {
        "colab": {
          "base_uri": "https://localhost:8080/"
        },
        "id": "oFh-T3ZJynYY",
        "outputId": "51283dd3-7539-4a54-e5d9-9865cff68b5b"
      },
      "outputs": [
        {
          "data": {
            "text/plain": [
              "564    886\n",
              "547    739\n",
              "15     559\n",
              "73     546\n",
              "452    531\n",
              "      ... \n",
              "374      5\n",
              "227      5\n",
              "448      4\n",
              "444      4\n",
              "663      2\n",
              "Name: userId, Length: 671, dtype: int64"
            ]
          },
          "execution_count": 11,
          "metadata": {},
          "output_type": "execute_result"
        }
      ],
      "source": [
        "ratings_df['userId'].value_counts()"
      ]
    },
    {
      "cell_type": "code",
      "execution_count": 16,
      "metadata": {
        "colab": {
          "base_uri": "https://localhost:8080/"
        },
        "id": "yyPFjQZe0T0j",
        "outputId": "fb5b82f1-5075-4232-e46d-ca44d4160d11"
      },
      "outputs": [
        {
          "data": {
            "text/plain": [
              "296     324\n",
              "318     311\n",
              "593     304\n",
              "260     291\n",
              "480     274\n",
              "       ... \n",
              "3043      1\n",
              "2486      1\n",
              "4680      1\n",
              "4706      1\n",
              "129       1\n",
              "Name: movieId, Length: 2781, dtype: int64"
            ]
          },
          "execution_count": 16,
          "metadata": {},
          "output_type": "execute_result"
        }
      ],
      "source": [
        "ratings_df['movieId'].value_counts()"
      ]
    },
    {
      "cell_type": "code",
      "execution_count": 32,
      "metadata": {
        "id": "C48wFKqzxosM"
      },
      "outputs": [],
      "source": [
        "users_id = [480, 260, 15]\n",
        "movies_id = [414, 11, 296] "
      ]
    },
    {
      "attachments": {},
      "cell_type": "markdown",
      "metadata": {
        "id": "clHDw_7zC7g0"
      },
      "source": [
        "## **4. Model Evaluation**"
      ]
    },
    {
      "cell_type": "code",
      "execution_count": 33,
      "metadata": {
        "colab": {
          "base_uri": "https://localhost:8080/"
        },
        "id": "wen7Wu18xosN",
        "outputId": "6185a054-1a0f-4bc8-8458-d03672f61108"
      },
      "outputs": [
        {
          "name": "stdout",
          "output_type": "stream",
          "text": [
            "Batman Forever\n",
            "user: 480        item: 414        r_ui = None   est = 6.47   {'actual_k': 7, 'was_impossible': False}\n",
            "Star Wars\n",
            "user: 260        item: 11         r_ui = None   est = 7.64   {'actual_k': 40, 'was_impossible': False}\n",
            "Terminator 3: Rise of the Machines\n",
            "user: 15         item: 296        r_ui = None   est = 7.04   {'actual_k': 40, 'was_impossible': False}\n"
          ]
        }
      ],
      "source": [
        "for user_id, movie_id in zip(users_id, movies_id):\n",
        "    print(movies_df.loc[movies_df['id'] == movie_id]['title'].item())\n",
        "    print(KNNalgo.predict(user_id, movie_id))"
      ]
    }
  ],
  "metadata": {
    "colab": {
      "provenance": []
    },
    "kernelspec": {
      "display_name": "base",
      "language": "python",
      "name": "python3"
    },
    "language_info": {
      "codemirror_mode": {
        "name": "ipython",
        "version": 3
      },
      "file_extension": ".py",
      "mimetype": "text/x-python",
      "name": "python",
      "nbconvert_exporter": "python",
      "pygments_lexer": "ipython3",
      "version": "3.9.12"
    },
    "orig_nbformat": 4
  },
  "nbformat": 4,
  "nbformat_minor": 0
}
